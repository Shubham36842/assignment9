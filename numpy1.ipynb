{
 "cells": [
  {
   "cell_type": "code",
   "execution_count": 2,
   "id": "b2d64aee-d562-4581-8b67-ed996e4bc3b1",
   "metadata": {},
   "outputs": [],
   "source": [
    "#Consider the below code to answer further questions:\n",
    "import numpy as np\n",
    "\n",
    "list_ = [ '1' , '2' , '3' , '4' , '5' ]\n",
    "\n",
    "array_list = np.array(object = list_)"
   ]
  },
  {
   "cell_type": "code",
   "execution_count": 3,
   "id": "4e35f67c-ae41-4866-a6bc-effc8324a464",
   "metadata": {},
   "outputs": [
    {
     "data": {
      "text/plain": [
       "array(['1', '2', '3', '4', '5'], dtype='<U1')"
      ]
     },
     "execution_count": 3,
     "metadata": {},
     "output_type": "execute_result"
    }
   ],
   "source": [
    "array_list"
   ]
  },
  {
   "cell_type": "raw",
   "id": "2b9dce21-033f-49e7-b1ec-75bab60f3529",
   "metadata": {},
   "source": [
    "Q1. Is there any difference in the data type of variables list_ and array_list? If there is then write a code to print the data types of both the variables.\n"
   ]
  },
  {
   "cell_type": "raw",
   "id": "4480651b-a679-4efc-8330-f3ad8b63d3be",
   "metadata": {},
   "source": [
    "Ans:-variable list_  contains a list of five five integers and have datatype=list\n",
    "     \n",
    "     array_list contains an one dimensional array of five integer and have datatype=array"
   ]
  },
  {
   "cell_type": "code",
   "execution_count": 5,
   "id": "280a55f8-bf7e-48dd-9685-7cdd51d7e25e",
   "metadata": {},
   "outputs": [
    {
     "data": {
      "text/plain": [
       "list"
      ]
     },
     "execution_count": 5,
     "metadata": {},
     "output_type": "execute_result"
    }
   ],
   "source": [
    "type(list_)"
   ]
  },
  {
   "cell_type": "code",
   "execution_count": 6,
   "id": "7ff2400d-cf13-4417-8b93-5a24c430696c",
   "metadata": {},
   "outputs": [
    {
     "data": {
      "text/plain": [
       "numpy.ndarray"
      ]
     },
     "execution_count": 6,
     "metadata": {},
     "output_type": "execute_result"
    }
   ],
   "source": [
    "type(array_list)"
   ]
  },
  {
   "cell_type": "markdown",
   "id": "5e11ea93-c0ea-4f58-b0ee-c93573a34d86",
   "metadata": {},
   "source": [
    "Q2. Write a code to print the data type of each and every element of both the variables list_ and arra_list.\n"
   ]
  },
  {
   "cell_type": "code",
   "execution_count": 11,
   "id": "91ba2835-bee7-4bdb-8fdb-6ebdc2a51073",
   "metadata": {},
   "outputs": [
    {
     "name": "stdout",
     "output_type": "stream",
     "text": [
      "datatype of each element of list_:\n",
      "1 <class 'str'>\n",
      "2 <class 'str'>\n",
      "3 <class 'str'>\n",
      "4 <class 'str'>\n",
      "5 <class 'str'>\n",
      "datatype of each elemnet of array_list\n",
      "1 <class 'numpy.str_'>\n",
      "2 <class 'numpy.str_'>\n",
      "3 <class 'numpy.str_'>\n",
      "4 <class 'numpy.str_'>\n",
      "5 <class 'numpy.str_'>\n"
     ]
    }
   ],
   "source": [
    "print(\"datatype of each element of list_:\")\n",
    "for i in list_:\n",
    "    print(i,type(i))\n",
    "print(\"datatype of each elemnet of array_list\")\n",
    "for j in array_list:\n",
    "    print(j,type(j))"
   ]
  },
  {
   "cell_type": "raw",
   "id": "56a28f44-9ed4-4893-af08-a6fcf477e225",
   "metadata": {},
   "source": [
    "Q3. Considering the following changes in the variable, array_list:\n",
    "\n",
    "array_list = np.array(object = list_, dtype = int)\n",
    "\n",
    "Will there be any difference in the data type of the elements present in both the variables, list_ and arra_list? If so then print the data types of each and every element present in both the variables, list_ and arra_list.\n"
   ]
  },
  {
   "cell_type": "code",
   "execution_count": 19,
   "id": "c026fae8-dd8e-45e6-b7fc-bec1712bb8ea",
   "metadata": {},
   "outputs": [],
   "source": [
    "array_list = np.array(object = list_, dtype = int)"
   ]
  },
  {
   "cell_type": "code",
   "execution_count": 20,
   "id": "e6f40789-199e-4cc1-8213-5afe141c3551",
   "metadata": {},
   "outputs": [
    {
     "name": "stdout",
     "output_type": "stream",
     "text": [
      "datatype of each element of list_:\n",
      "1 <class 'str'>\n",
      "2 <class 'str'>\n",
      "3 <class 'str'>\n",
      "4 <class 'str'>\n",
      "5 <class 'str'>\n",
      "datatype of each elemnet of array_list\n",
      "1 <class 'numpy.int64'>\n",
      "2 <class 'numpy.int64'>\n",
      "3 <class 'numpy.int64'>\n",
      "4 <class 'numpy.int64'>\n",
      "5 <class 'numpy.int64'>\n"
     ]
    }
   ],
   "source": [
    "print(\"datatype of each element of list_:\")\n",
    "for i in list_:\n",
    "    print(i,type(i))\n",
    "print(\"datatype of each elemnet of array_list\")\n",
    "for j in array_list:\n",
    "    print(j,type(j))"
   ]
  },
  {
   "cell_type": "raw",
   "id": "8560cd5f-55a0-4c5b-9cb5-a35afc750056",
   "metadata": {},
   "source": [
    "Explanation- the list_ have string type element in it while array_list have integer type                  element in it after executing above given code"
   ]
  },
  {
   "cell_type": "code",
   "execution_count": 21,
   "id": "d440644d-dc01-46d8-a36e-1ed01df47520",
   "metadata": {},
   "outputs": [],
   "source": [
    "#Consider the below code to answer further questions:\n",
    "\n",
    "import numpy as np\n",
    "\n",
    "num_list = [ [ 1 , 2 , 3 ] , [ 4 , 5 , 6 ] ]\n",
    "\n",
    "num_array = np.array(object = num_list)"
   ]
  },
  {
   "cell_type": "code",
   "execution_count": 22,
   "id": "1a6f6a9d-acbb-4a97-bb4f-0e71c04f5e37",
   "metadata": {},
   "outputs": [
    {
     "data": {
      "text/plain": [
       "array([[1, 2, 3],\n",
       "       [4, 5, 6]])"
      ]
     },
     "execution_count": 22,
     "metadata": {},
     "output_type": "execute_result"
    }
   ],
   "source": [
    "num_array"
   ]
  },
  {
   "cell_type": "raw",
   "id": "e1c70cc8-a7ee-4cf4-a118-f7e103968be4",
   "metadata": {},
   "source": [
    "Q4. Write a code to find the following characteristics of variable, num_array:\n",
    "\n",
    "(i) shape\n",
    "\n",
    "(ii) size\n",
    "\n"
   ]
  },
  {
   "cell_type": "code",
   "execution_count": 23,
   "id": "a5c8eaf0-f321-4522-aa48-0043039c3173",
   "metadata": {},
   "outputs": [
    {
     "data": {
      "text/plain": [
       "(2, 3)"
      ]
     },
     "execution_count": 23,
     "metadata": {},
     "output_type": "execute_result"
    }
   ],
   "source": [
    "num_array.shape"
   ]
  },
  {
   "cell_type": "code",
   "execution_count": 24,
   "id": "f9950345-4587-4592-8f1c-98178424b543",
   "metadata": {},
   "outputs": [
    {
     "data": {
      "text/plain": [
       "6"
      ]
     },
     "execution_count": 24,
     "metadata": {},
     "output_type": "execute_result"
    }
   ],
   "source": [
    "num_array.size"
   ]
  },
  {
   "cell_type": "raw",
   "id": "4eae3d06-441c-4958-be10-0c145c56d8bd",
   "metadata": {},
   "source": [
    "Explanation- shape gives dimension of array in (row,column)\n",
    "             size gives number of element in array"
   ]
  },
  {
   "cell_type": "raw",
   "id": "355d7e44-44c1-4943-8823-3bf765373cf6",
   "metadata": {},
   "source": [
    "Q5. Write a code to create numpy array of 3*3 matrix containing zeros only, using a numpy array creation function."
   ]
  },
  {
   "cell_type": "code",
   "execution_count": 15,
   "id": "c8214dd7-98e1-4974-88dc-df663e04d94c",
   "metadata": {},
   "outputs": [],
   "source": [
    "arr2=np.zeros((3,3))"
   ]
  },
  {
   "cell_type": "code",
   "execution_count": 16,
   "id": "3cda064d-6192-4cfd-9790-83b0d67906fe",
   "metadata": {},
   "outputs": [
    {
     "data": {
      "text/plain": [
       "array([[0., 0., 0.],\n",
       "       [0., 0., 0.],\n",
       "       [0., 0., 0.]])"
      ]
     },
     "execution_count": 16,
     "metadata": {},
     "output_type": "execute_result"
    }
   ],
   "source": [
    "arr2"
   ]
  },
  {
   "cell_type": "raw",
   "id": "a01f8a3e-5802-4d63-ac84-0e0856b88d21",
   "metadata": {},
   "source": [
    "Q6. Create an identity matrix of shape (5,5) using numpy functions?\n"
   ]
  },
  {
   "cell_type": "code",
   "execution_count": 17,
   "id": "5ff0d034-a46f-4825-a476-7a13fdad4e9f",
   "metadata": {},
   "outputs": [],
   "source": [
    "arr2=np.identity(5)"
   ]
  },
  {
   "cell_type": "code",
   "execution_count": 18,
   "id": "56194c34-817e-4834-a797-bdf153dff0be",
   "metadata": {},
   "outputs": [
    {
     "data": {
      "text/plain": [
       "array([[1., 0., 0., 0., 0.],\n",
       "       [0., 1., 0., 0., 0.],\n",
       "       [0., 0., 1., 0., 0.],\n",
       "       [0., 0., 0., 1., 0.],\n",
       "       [0., 0., 0., 0., 1.]])"
      ]
     },
     "execution_count": 18,
     "metadata": {},
     "output_type": "execute_result"
    }
   ],
   "source": [
    "arr2"
   ]
  },
  {
   "cell_type": "code",
   "execution_count": null,
   "id": "3ebff9ee-a32a-4210-a26a-0759b5252c30",
   "metadata": {},
   "outputs": [],
   "source": [
    "arr3=np.diag()"
   ]
  }
 ],
 "metadata": {
  "kernelspec": {
   "display_name": "Python 3 (ipykernel)",
   "language": "python",
   "name": "python3"
  },
  "language_info": {
   "codemirror_mode": {
    "name": "ipython",
    "version": 3
   },
   "file_extension": ".py",
   "mimetype": "text/x-python",
   "name": "python",
   "nbconvert_exporter": "python",
   "pygments_lexer": "ipython3",
   "version": "3.10.8"
  }
 },
 "nbformat": 4,
 "nbformat_minor": 5
}
